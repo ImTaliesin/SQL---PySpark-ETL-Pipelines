{
 "cells": [
  {
   "cell_type": "code",
   "execution_count": 0,
   "metadata": {
    "application/vnd.databricks.v1+cell": {
     "cellMetadata": {
      "byteLimit": 2048000,
      "rowLimit": 10000
     },
     "inputWidgets": {},
     "nuid": "9249f2fc-ab24-4236-829a-241c7d443275",
     "showTitle": false,
     "tableResultSettingsMap": {},
     "title": ""
    },
    "jupyter": {
     "outputs_hidden": true
    }
   },
   "outputs": [
    {
     "output_type": "stream",
     "name": "stdout",
     "output_type": "stream",
     "text": [
      "/mnt/udemy has been unmounted.\nUnmounted existing mount point: /mnt/udemy\nSuccessfully mounted at: /mnt/udemy\n\nAvailable directories:\n- Presentation/\n- Processed/\n- Raw/\n"
     ]
    }
   ],
   "source": [
    "def mount_adls(storage_account_name, container_name):\n",
    "    \"\"\"\n",
    "    Mounts Azure Data Lake Storage at the container level.\n",
    "    \n",
    "    Args:\n",
    "        storage_account_name (str): Name of the storage account\n",
    "        container_name (str): Name of the container\n",
    "    \"\"\"\n",
    "    # Get secrets from key vault\n",
    "    client_id = dbutils.secrets.get(scope=\"udemy-storageaccount-databricks-scope\", key=\"ClientID\")\n",
    "    tenant_id = dbutils.secrets.get(scope=\"udemy-storageaccount-databricks-scope\", key=\"TenantID\")\n",
    "    client_secret = dbutils.secrets.get(scope=\"udemy-storageaccount-databricks-scope\", key=\"ClientSecret\")\n",
    "\n",
    "    # Configure Azure Storage access using OAuth\n",
    "    configs = {\n",
    "        \"fs.azure.account.auth.type\": \"OAuth\",\n",
    "        \"fs.azure.account.oauth.provider.type\": \"org.apache.hadoop.fs.azurebfs.oauth2.ClientCredsTokenProvider\",\n",
    "        \"fs.azure.account.oauth2.client.id\": client_id,\n",
    "        \"fs.azure.account.oauth2.client.secret\": client_secret,\n",
    "        \"fs.azure.account.oauth2.client.endpoint\": f\"https://login.microsoftonline.com/{tenant_id}/oauth2/token\"\n",
    "    }\n",
    "    \n",
    "    # Construct the mount point and source\n",
    "    mount_point = f'/mnt/{container_name}'\n",
    "    source = f'abfss://{container_name}@{storage_account_name}.dfs.core.windows.net/'\n",
    "\n",
    "    # Unmount if already mounted\n",
    "    try:\n",
    "        dbutils.fs.unmount(mount_point)\n",
    "        print(f\"Unmounted existing mount point: {mount_point}\")\n",
    "    except Exception as e:\n",
    "        pass  # Mount point doesn't exist\n",
    "\n",
    "    # Mount storage account\n",
    "    try:\n",
    "        dbutils.fs.mount(\n",
    "            source=source,\n",
    "            mount_point=mount_point,\n",
    "            extra_configs=configs\n",
    "        )\n",
    "        print(f\"Successfully mounted at: {mount_point}\")\n",
    "        \n",
    "        # Verify mount by listing contents\n",
    "        contents = dbutils.fs.ls(mount_point)\n",
    "        print(\"\\nAvailable directories:\")\n",
    "        for item in contents:\n",
    "            print(f\"- {item.name}\")\n",
    "            \n",
    "    except Exception as e:\n",
    "        print(f\"Error mounting storage: {str(e)}\")\n",
    "\n",
    "# Usage:\n",
    "mount_adls('synapsecoursedatalakes', 'udemy')"
   ]
  },
  {
   "cell_type": "code",
   "execution_count": 0,
   "metadata": {
    "application/vnd.databricks.v1+cell": {
     "cellMetadata": {
      "byteLimit": 2048000,
      "rowLimit": 10000
     },
     "inputWidgets": {},
     "nuid": "b1369c44-dc13-4122-89c4-4370d3c432ae",
     "showTitle": false,
     "tableResultSettingsMap": {},
     "title": ""
    }
   },
   "outputs": [
    {
     "output_type": "display_data",
     "data": {
      "text/html": [
       "<style scoped>\n",
       "  .table-result-container {\n",
       "    max-height: 300px;\n",
       "    overflow: auto;\n",
       "  }\n",
       "  table, th, td {\n",
       "    border: 1px solid black;\n",
       "    border-collapse: collapse;\n",
       "  }\n",
       "  th, td {\n",
       "    padding: 5px;\n",
       "  }\n",
       "  th {\n",
       "    text-align: left;\n",
       "  }\n",
       "</style><div class='table-result-container'><table class='table-result'><thead style='background-color: white'><tr><th>path</th><th>name</th><th>size</th><th>modificationTime</th></tr></thead><tbody><tr><td>dbfs:/mnt/udemy/Presentation/</td><td>Presentation/</td><td>0</td><td>1735592115000</td></tr><tr><td>dbfs:/mnt/udemy/Processed/</td><td>Processed/</td><td>0</td><td>1735592105000</td></tr><tr><td>dbfs:/mnt/udemy/Raw/</td><td>Raw/</td><td>0</td><td>1735592100000</td></tr></tbody></table></div>"
      ]
     },
     "metadata": {
      "application/vnd.databricks.v1+output": {
       "addedWidgets": {},
       "aggData": [],
       "aggError": "",
       "aggOverflow": false,
       "aggSchema": [],
       "aggSeriesLimitReached": false,
       "aggType": "",
       "arguments": {},
       "columnCustomDisplayInfos": {},
       "data": [
        [
         "dbfs:/mnt/udemy/Presentation/",
         "Presentation/",
         0,
         1735592115000
        ],
        [
         "dbfs:/mnt/udemy/Processed/",
         "Processed/",
         0,
         1735592105000
        ],
        [
         "dbfs:/mnt/udemy/Raw/",
         "Raw/",
         0,
         1735592100000
        ]
       ],
       "datasetInfos": [],
       "dbfsResultPath": null,
       "isJsonSchema": true,
       "metadata": {},
       "overflow": false,
       "plotOptions": {
        "customPlotOptions": {},
        "displayType": "table",
        "pivotAggregation": null,
        "pivotColumns": null,
        "xColumns": null,
        "yColumns": null
       },
       "removedWidgets": [],
       "schema": [
        {
         "metadata": "{}",
         "name": "path",
         "type": "\"string\""
        },
        {
         "metadata": "{}",
         "name": "name",
         "type": "\"string\""
        },
        {
         "metadata": "{}",
         "name": "size",
         "type": "\"long\""
        },
        {
         "metadata": "{}",
         "name": "modificationTime",
         "type": "\"long\""
        }
       ],
       "type": "table"
      }
     },
     "output_type": "display_data"
    }
   ],
   "source": [
    "# List files\n",
    "display(dbutils.fs.ls('/mnt/udemy/'))"
   ]
  },
  {
   "cell_type": "code",
   "execution_count": 0,
   "metadata": {
    "application/vnd.databricks.v1+cell": {
     "cellMetadata": {
      "byteLimit": 2048000,
      "rowLimit": 10000
     },
     "inputWidgets": {},
     "nuid": "a008ff71-4055-4baa-8bd1-404ec55db743",
     "showTitle": false,
     "tableResultSettingsMap": {},
     "title": ""
    }
   },
   "outputs": [
    {
     "output_type": "display_data",
     "data": {
      "text/html": [
       "<style scoped>\n",
       "  .table-result-container {\n",
       "    max-height: 300px;\n",
       "    overflow: auto;\n",
       "  }\n",
       "  table, th, td {\n",
       "    border: 1px solid black;\n",
       "    border-collapse: collapse;\n",
       "  }\n",
       "  th, td {\n",
       "    padding: 5px;\n",
       "  }\n",
       "  th {\n",
       "    text-align: left;\n",
       "  }\n",
       "</style><div class='table-result-container'><table class='table-result'><thead style='background-color: white'><tr><th>mountPoint</th><th>source</th><th>encryptionType</th></tr></thead><tbody><tr><td>/mnt/udemy/</td><td>abfss://udemy@synapsecoursedatalakes.dfs.core.windows.net</td><td></td></tr><tr><td>/databricks-datasets</td><td>databricks-datasets</td><td></td></tr><tr><td>/Volumes</td><td>UnityCatalogVolumes</td><td></td></tr><tr><td>/mnt/synapsecoursedatalakes/udemy/raw</td><td>abfss://udemy@synapsecoursedatalakes.dfs.core.windows.net/raw</td><td></td></tr><tr><td>/databricks/mlflow-tracking</td><td>databricks/mlflow-tracking</td><td></td></tr><tr><td>/databricks-results</td><td>databricks-results</td><td></td></tr><tr><td>/databricks/mlflow-registry</td><td>databricks/mlflow-registry</td><td></td></tr><tr><td>/mnt/synapsecoursedatalakes/udemy/processed</td><td>abfss://udemy@synapsecoursedatalakes.dfs.core.windows.net/processed</td><td></td></tr><tr><td>/Volume</td><td>DbfsReserved</td><td></td></tr><tr><td>/mnt/synapsecoursedatalakes/udemy/presentation</td><td>abfss://udemy@synapsecoursedatalakes.dfs.core.windows.net/presentation</td><td></td></tr><tr><td>/volumes</td><td>DbfsReserved</td><td></td></tr><tr><td>/</td><td>DatabricksRoot</td><td></td></tr><tr><td>/volume</td><td>DbfsReserved</td><td></td></tr></tbody></table></div>"
      ]
     },
     "metadata": {
      "application/vnd.databricks.v1+output": {
       "addedWidgets": {},
       "aggData": [],
       "aggError": "",
       "aggOverflow": false,
       "aggSchema": [],
       "aggSeriesLimitReached": false,
       "aggType": "",
       "arguments": {},
       "columnCustomDisplayInfos": {},
       "data": [
        [
         "/mnt/udemy/",
         "abfss://udemy@synapsecoursedatalakes.dfs.core.windows.net",
         ""
        ],
        [
         "/databricks-datasets",
         "databricks-datasets",
         ""
        ],
        [
         "/Volumes",
         "UnityCatalogVolumes",
         ""
        ],
        [
         "/mnt/synapsecoursedatalakes/udemy/raw",
         "abfss://udemy@synapsecoursedatalakes.dfs.core.windows.net/raw",
         ""
        ],
        [
         "/databricks/mlflow-tracking",
         "databricks/mlflow-tracking",
         ""
        ],
        [
         "/databricks-results",
         "databricks-results",
         ""
        ],
        [
         "/databricks/mlflow-registry",
         "databricks/mlflow-registry",
         ""
        ],
        [
         "/mnt/synapsecoursedatalakes/udemy/processed",
         "abfss://udemy@synapsecoursedatalakes.dfs.core.windows.net/processed",
         ""
        ],
        [
         "/Volume",
         "DbfsReserved",
         ""
        ],
        [
         "/mnt/synapsecoursedatalakes/udemy/presentation",
         "abfss://udemy@synapsecoursedatalakes.dfs.core.windows.net/presentation",
         ""
        ],
        [
         "/volumes",
         "DbfsReserved",
         ""
        ],
        [
         "/",
         "DatabricksRoot",
         ""
        ],
        [
         "/volume",
         "DbfsReserved",
         ""
        ]
       ],
       "datasetInfos": [],
       "dbfsResultPath": null,
       "isJsonSchema": true,
       "metadata": {},
       "overflow": false,
       "plotOptions": {
        "customPlotOptions": {},
        "displayType": "table",
        "pivotAggregation": null,
        "pivotColumns": null,
        "xColumns": null,
        "yColumns": null
       },
       "removedWidgets": [],
       "schema": [
        {
         "metadata": "{}",
         "name": "mountPoint",
         "type": "\"string\""
        },
        {
         "metadata": "{}",
         "name": "source",
         "type": "\"string\""
        },
        {
         "metadata": "{}",
         "name": "encryptionType",
         "type": "\"string\""
        }
       ],
       "type": "table"
      }
     },
     "output_type": "display_data"
    }
   ],
   "source": [
    "display(dbutils.fs.mounts())"
   ]
  }
 ],
 "metadata": {
  "application/vnd.databricks.v1+notebook": {
   "computePreferences": null,
   "dashboards": [],
   "environmentMetadata": {
    "base_environment": "",
    "environment_version": "1"
   },
   "language": "python",
   "notebookMetadata": {
    "pythonIndentUnit": 4
   },
   "notebookName": "Mounting ADLS to DB",
   "widgets": {}
  },
  "language_info": {
   "name": "python"
  }
 },
 "nbformat": 4,
 "nbformat_minor": 0
}